{
 "cells": [
  {
   "cell_type": "markdown",
   "id": "b408c33c-673b-46fc-9fb8-10ffd86912b4",
   "metadata": {},
   "source": [
    "# Data Scienece Tools and Ecosystems"
   ]
  },
  {
   "cell_type": "markdown",
   "id": "bcee6adb-0a71-4e0f-a3cf-96d0754c83f5",
   "metadata": {},
   "source": [
    "In this notebook, Data Science Tools and Ecosystem are summarized.\n"
   ]
  },
  {
   "cell_type": "markdown",
   "id": "8a0865a0-1ee0-4130-8132-3efbb51ad365",
   "metadata": {},
   "source": [
    "**Objectives:**\n",
    "- Presenting some of the most commonly used libraris in Data Science.\n",
    "- Perform basic algebraic calculations with code cells.\n",
    "- Presenting popular languages used by Data Scientists.\n",
    "\n",
    "***\n"
   ]
  },
  {
   "cell_type": "markdown",
   "id": "9a90ef22-dcb6-4489-bda4-d0ab64c584f4",
   "metadata": {},
   "source": [
    "Some of the popular languages that Data Scientists use are:\n",
    "1. Python\n",
    "2. Java\n",
    "3. Javascript"
   ]
  },
  {
   "cell_type": "markdown",
   "id": "fcd9863b-1ab1-46fe-820a-6bd0940496f5",
   "metadata": {},
   "source": [
    "Some of the commonly used libraries used by Data Scientists include:\n",
    "1. pandas\n",
    "2. TensorFlow\n",
    "3. SciKit-Learn"
   ]
  },
  {
   "cell_type": "markdown",
   "id": "c4a6da9e-71bb-4886-a88f-42559dfadd82",
   "metadata": {
    "tags": []
   },
   "source": [
    "|Data Science Tools|\n",
    "|:--------:|\n",
    "|JupyterLab|  \n",
    "|RStduio| \n",
    "|PyCharm| "
   ]
  },
  {
   "cell_type": "markdown",
   "id": "08864741-5d81-459a-8550-0ce44514bbb5",
   "metadata": {},
   "source": [
    "### Below are a few examples of evaluating arithmetic expressions in Python."
   ]
  },
  {
   "cell_type": "code",
   "execution_count": 15,
   "id": "d1bd32b0-8477-441a-9d06-73ce9ed0e421",
   "metadata": {
    "tags": []
   },
   "outputs": [
    {
     "data": {
      "text/plain": [
       "17"
      ]
     },
     "execution_count": 15,
     "metadata": {},
     "output_type": "execute_result"
    }
   ],
   "source": [
    "#This a simple arithmetic expression to mutiply then add integers\n",
    "\n",
    "(3*4)+5"
   ]
  },
  {
   "cell_type": "code",
   "execution_count": 30,
   "id": "20264bfc-eee2-4218-9303-5df562e9aca9",
   "metadata": {
    "tags": []
   },
   "outputs": [
    {
     "name": "stdout",
     "output_type": "stream",
     "text": [
      "200 minutes are 3 hours.\n"
     ]
    }
   ],
   "source": [
    "# This will convert 200 minutes to hours by diving by 60\n",
    "minutes = 200\n",
    "hours = minutes // 60\n",
    "print(f\"{minutes} minutes are {hours} hours.\")"
   ]
  },
  {
   "cell_type": "markdown",
   "id": "c9706547-4e10-4aea-8db8-5895c3de7d53",
   "metadata": {
    "tags": []
   },
   "source": [
    "&nbsp;\n",
    "## Author\n",
    "Chris Vafeiadis"
   ]
  }
 ],
 "metadata": {
  "kernelspec": {
   "display_name": "Python 3 (ipykernel)",
   "language": "python",
   "name": "python3"
  },
  "language_info": {
   "codemirror_mode": {
    "name": "ipython",
    "version": 3
   },
   "file_extension": ".py",
   "mimetype": "text/x-python",
   "name": "python",
   "nbconvert_exporter": "python",
   "pygments_lexer": "ipython3",
   "version": "3.11.5"
  }
 },
 "nbformat": 4,
 "nbformat_minor": 5
}
